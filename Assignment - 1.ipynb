{
  "nbformat": 4,
  "nbformat_minor": 0,
  "metadata": {
    "colab": {
      "provenance": []
    },
    "kernelspec": {
      "name": "python3",
      "display_name": "Python 3"
    },
    "language_info": {
      "name": "python"
    }
  },
  "cells": [
    {
      "cell_type": "markdown",
      "source": [
        "BYREDDY AKHILESWAR REDDY 21BCE9783"
      ],
      "metadata": {
        "id": "U8KIaiFFfDYg"
      }
    },
    {
      "cell_type": "markdown",
      "source": [
        "NumPy Exercises\n",
        "Now that we've learned about NumPy let's test your knowledge. We'll start off with a few simple tasks, and\n",
        "then you'll be asked some more complicated questions.\n",
        "Import NumPy as np\n"
      ],
      "metadata": {
        "id": "th7YAgnZgd9F"
      }
    },
    {
      "cell_type": "code",
      "execution_count": 3,
      "metadata": {
        "id": "8CoKwDjZe8Ix"
      },
      "outputs": [],
      "source": [
        "import numpy as np"
      ]
    },
    {
      "cell_type": "markdown",
      "source": [
        "**Create an array of 10 zeros**"
      ],
      "metadata": {
        "id": "CwFaNSGhgiUp"
      }
    },
    {
      "cell_type": "code",
      "source": [
        "z1=np.zeros(10)\n",
        "z1\n"
      ],
      "metadata": {
        "colab": {
          "base_uri": "https://localhost:8080/"
        },
        "id": "yboZlvglfO5V",
        "outputId": "27e7ecf0-bf85-4f5b-fec6-c9875002093d"
      },
      "execution_count": 4,
      "outputs": [
        {
          "output_type": "execute_result",
          "data": {
            "text/plain": [
              "array([0., 0., 0., 0., 0., 0., 0., 0., 0., 0.])"
            ]
          },
          "metadata": {},
          "execution_count": 4
        }
      ]
    },
    {
      "cell_type": "markdown",
      "source": [
        "**Create an array of 10 ones**"
      ],
      "metadata": {
        "id": "lwsmhKONgwDe"
      }
    },
    {
      "cell_type": "code",
      "source": [
        "z=np.ones(10)\n",
        "z"
      ],
      "metadata": {
        "colab": {
          "base_uri": "https://localhost:8080/"
        },
        "id": "HlMcX8ODfPXz",
        "outputId": "698d2f23-5ba7-4494-c4e8-212999d738f6"
      },
      "execution_count": 5,
      "outputs": [
        {
          "output_type": "execute_result",
          "data": {
            "text/plain": [
              "array([1., 1., 1., 1., 1., 1., 1., 1., 1., 1.])"
            ]
          },
          "metadata": {},
          "execution_count": 5
        }
      ]
    },
    {
      "cell_type": "markdown",
      "source": [
        "**Create an array of 10 fives**"
      ],
      "metadata": {
        "id": "IipF8Fvwg2c5"
      }
    },
    {
      "cell_type": "code",
      "source": [
        "z3=np.full(10,5.0)\n",
        "z3"
      ],
      "metadata": {
        "colab": {
          "base_uri": "https://localhost:8080/"
        },
        "id": "ZGDXrlGXfXzG",
        "outputId": "ae386e7e-7fe9-4fc4-c3bd-e2fe80d5e613"
      },
      "execution_count": 6,
      "outputs": [
        {
          "output_type": "execute_result",
          "data": {
            "text/plain": [
              "array([5., 5., 5., 5., 5., 5., 5., 5., 5., 5.])"
            ]
          },
          "metadata": {},
          "execution_count": 6
        }
      ]
    },
    {
      "cell_type": "markdown",
      "source": [
        "**Create an array of the integers from 10 to 50**"
      ],
      "metadata": {
        "id": "BXN3iDozg7Gz"
      }
    },
    {
      "cell_type": "code",
      "source": [
        "a=np.arange(10,51)\n",
        "a"
      ],
      "metadata": {
        "colab": {
          "base_uri": "https://localhost:8080/"
        },
        "id": "1wBMF7Apfczo",
        "outputId": "4dbd02ea-a29b-4dc7-8772-20f3ba9ed702"
      },
      "execution_count": 7,
      "outputs": [
        {
          "output_type": "execute_result",
          "data": {
            "text/plain": [
              "array([10, 11, 12, 13, 14, 15, 16, 17, 18, 19, 20, 21, 22, 23, 24, 25, 26,\n",
              "       27, 28, 29, 30, 31, 32, 33, 34, 35, 36, 37, 38, 39, 40, 41, 42, 43,\n",
              "       44, 45, 46, 47, 48, 49, 50])"
            ]
          },
          "metadata": {},
          "execution_count": 7
        }
      ]
    },
    {
      "cell_type": "markdown",
      "source": [
        "**Create an array of all the even integers from 10 to 50**"
      ],
      "metadata": {
        "id": "7VaTfsAWhD5O"
      }
    },
    {
      "cell_type": "code",
      "source": [
        "ev_arr=np.arange(10,51,2)\n",
        "ev_arr"
      ],
      "metadata": {
        "colab": {
          "base_uri": "https://localhost:8080/"
        },
        "id": "gKNjPeVtffqY",
        "outputId": "3fd69f03-0694-4b0d-bc81-d0d157c6f3f7"
      },
      "execution_count": 8,
      "outputs": [
        {
          "output_type": "execute_result",
          "data": {
            "text/plain": [
              "array([10, 12, 14, 16, 18, 20, 22, 24, 26, 28, 30, 32, 34, 36, 38, 40, 42,\n",
              "       44, 46, 48, 50])"
            ]
          },
          "metadata": {},
          "execution_count": 8
        }
      ]
    },
    {
      "cell_type": "markdown",
      "source": [
        "**Create a 3x3 matrix with values ranging from 0 to 8**"
      ],
      "metadata": {
        "id": "gFaLaGrKhLLo"
      }
    },
    {
      "cell_type": "code",
      "source": [
        "a1=np.array([[0,1,2,],[3,4,5],[6,7,8]])\n",
        "a1"
      ],
      "metadata": {
        "colab": {
          "base_uri": "https://localhost:8080/"
        },
        "id": "FQp6qCPxflb_",
        "outputId": "7d2996e5-3e0f-482f-d72a-6c90a5a84330"
      },
      "execution_count": 9,
      "outputs": [
        {
          "output_type": "execute_result",
          "data": {
            "text/plain": [
              "array([[0, 1, 2],\n",
              "       [3, 4, 5],\n",
              "       [6, 7, 8]])"
            ]
          },
          "metadata": {},
          "execution_count": 9
        }
      ]
    },
    {
      "cell_type": "markdown",
      "source": [
        "Create a 3x3 identity matrix"
      ],
      "metadata": {
        "id": "N5wRNFFNhR4i"
      }
    },
    {
      "cell_type": "code",
      "source": [
        "a2=np.eye(3)\n",
        "a2"
      ],
      "metadata": {
        "colab": {
          "base_uri": "https://localhost:8080/"
        },
        "id": "3X09xpAZfpYW",
        "outputId": "989fd7cf-1f88-41ea-88e3-3ba514968e14"
      },
      "execution_count": 10,
      "outputs": [
        {
          "output_type": "execute_result",
          "data": {
            "text/plain": [
              "array([[1., 0., 0.],\n",
              "       [0., 1., 0.],\n",
              "       [0., 0., 1.]])"
            ]
          },
          "metadata": {},
          "execution_count": 10
        }
      ]
    },
    {
      "cell_type": "markdown",
      "source": [
        "**Use NumPy to generate a random number between 0 and 1**"
      ],
      "metadata": {
        "id": "Th0qdlw-hXJV"
      }
    },
    {
      "cell_type": "code",
      "source": [
        "ran_num=np.random.rand()\n",
        "ran_num"
      ],
      "metadata": {
        "colab": {
          "base_uri": "https://localhost:8080/"
        },
        "id": "2BY_MfXYfsTJ",
        "outputId": "4259e383-72ea-47d0-bc9a-f96fc5b95b3f"
      },
      "execution_count": 11,
      "outputs": [
        {
          "output_type": "execute_result",
          "data": {
            "text/plain": [
              "0.6951624727817208"
            ]
          },
          "metadata": {},
          "execution_count": 11
        }
      ]
    },
    {
      "cell_type": "markdown",
      "source": [
        "**Use NumPy to generate an array of 25 random numbers sampled from a standard normal distribution **"
      ],
      "metadata": {
        "id": "TRn-04J1hahB"
      }
    },
    {
      "cell_type": "code",
      "source": [
        "a=np.random.randn(25)\n",
        "a"
      ],
      "metadata": {
        "colab": {
          "base_uri": "https://localhost:8080/"
        },
        "id": "bdeuEHlbfyFs",
        "outputId": "a3ec16c2-5fee-4dc9-e67d-adbf23efa13e"
      },
      "execution_count": 12,
      "outputs": [
        {
          "output_type": "execute_result",
          "data": {
            "text/plain": [
              "array([ 0.2491217 ,  0.18186631, -0.33079888, -0.86634529, -0.51050924,\n",
              "       -1.79257139,  0.93633824,  0.6324287 , -0.63313867,  0.12910227,\n",
              "        0.62517869,  1.01176411, -0.91725658,  0.10323565, -0.32938414,\n",
              "       -0.6752888 , -0.38071414, -0.6941275 , -0.93426535,  1.05051672,\n",
              "        1.36047994, -0.56691541, -1.7255344 ,  0.35646228,  0.80404271])"
            ]
          },
          "metadata": {},
          "execution_count": 12
        }
      ]
    },
    {
      "cell_type": "markdown",
      "source": [
        "**Create the following matrix:**"
      ],
      "metadata": {
        "id": "o4_9T36shjx6"
      }
    },
    {
      "cell_type": "code",
      "source": [
        "ar=np.arange(0.01,1.0,0.01)\n",
        "ar"
      ],
      "metadata": {
        "colab": {
          "base_uri": "https://localhost:8080/"
        },
        "id": "hixZ5KO4f0fF",
        "outputId": "330d352f-7c42-4276-a9c3-ec38da21669e"
      },
      "execution_count": 13,
      "outputs": [
        {
          "output_type": "execute_result",
          "data": {
            "text/plain": [
              "array([0.01, 0.02, 0.03, 0.04, 0.05, 0.06, 0.07, 0.08, 0.09, 0.1 , 0.11,\n",
              "       0.12, 0.13, 0.14, 0.15, 0.16, 0.17, 0.18, 0.19, 0.2 , 0.21, 0.22,\n",
              "       0.23, 0.24, 0.25, 0.26, 0.27, 0.28, 0.29, 0.3 , 0.31, 0.32, 0.33,\n",
              "       0.34, 0.35, 0.36, 0.37, 0.38, 0.39, 0.4 , 0.41, 0.42, 0.43, 0.44,\n",
              "       0.45, 0.46, 0.47, 0.48, 0.49, 0.5 , 0.51, 0.52, 0.53, 0.54, 0.55,\n",
              "       0.56, 0.57, 0.58, 0.59, 0.6 , 0.61, 0.62, 0.63, 0.64, 0.65, 0.66,\n",
              "       0.67, 0.68, 0.69, 0.7 , 0.71, 0.72, 0.73, 0.74, 0.75, 0.76, 0.77,\n",
              "       0.78, 0.79, 0.8 , 0.81, 0.82, 0.83, 0.84, 0.85, 0.86, 0.87, 0.88,\n",
              "       0.89, 0.9 , 0.91, 0.92, 0.93, 0.94, 0.95, 0.96, 0.97, 0.98, 0.99])"
            ]
          },
          "metadata": {},
          "execution_count": 13
        }
      ]
    },
    {
      "cell_type": "markdown",
      "source": [
        "**Create an array of 20 linearly spaced points between 0 and 1:**"
      ],
      "metadata": {
        "id": "0A6-rngOho_g"
      }
    },
    {
      "cell_type": "code",
      "source": [
        "la=np.linspace(0,1,20)\n",
        "la\n"
      ],
      "metadata": {
        "colab": {
          "base_uri": "https://localhost:8080/"
        },
        "id": "ShdPOYGDf3Wo",
        "outputId": "e107c538-f82b-42c1-edc9-4cb42fae2a71"
      },
      "execution_count": 14,
      "outputs": [
        {
          "output_type": "execute_result",
          "data": {
            "text/plain": [
              "array([0.        , 0.05263158, 0.10526316, 0.15789474, 0.21052632,\n",
              "       0.26315789, 0.31578947, 0.36842105, 0.42105263, 0.47368421,\n",
              "       0.52631579, 0.57894737, 0.63157895, 0.68421053, 0.73684211,\n",
              "       0.78947368, 0.84210526, 0.89473684, 0.94736842, 1.        ])"
            ]
          },
          "metadata": {},
          "execution_count": 14
        }
      ]
    },
    {
      "cell_type": "markdown",
      "source": [
        "Numpy Indexing and Selection\n",
        "Now you will be given a few matrices, and be asked to replicate the resulting matrix outputs:\n"
      ],
      "metadata": {
        "id": "AlP7-bsOhvF0"
      }
    },
    {
      "cell_type": "code",
      "source": [
        "mat = np.arange(1,26).reshape(5,5)\n",
        "mat\n"
      ],
      "metadata": {
        "colab": {
          "base_uri": "https://localhost:8080/"
        },
        "id": "VFsjV55if6bz",
        "outputId": "ebb2cf26-bcff-4730-f9ce-a914ad7db08d"
      },
      "execution_count": 15,
      "outputs": [
        {
          "output_type": "execute_result",
          "data": {
            "text/plain": [
              "array([[ 1,  2,  3,  4,  5],\n",
              "       [ 6,  7,  8,  9, 10],\n",
              "       [11, 12, 13, 14, 15],\n",
              "       [16, 17, 18, 19, 20],\n",
              "       [21, 22, 23, 24, 25]])"
            ]
          },
          "metadata": {},
          "execution_count": 15
        }
      ]
    },
    {
      "cell_type": "markdown",
      "source": [],
      "metadata": {
        "id": "4NvwHNKqh2e9"
      }
    },
    {
      "cell_type": "code",
      "source": [
        "mat[2:6,1:6]\n"
      ],
      "metadata": {
        "colab": {
          "base_uri": "https://localhost:8080/"
        },
        "id": "Da4NsFalf_fu",
        "outputId": "fcbf7d9f-f8c3-44ee-981b-6960c0447d8c"
      },
      "execution_count": 16,
      "outputs": [
        {
          "output_type": "execute_result",
          "data": {
            "text/plain": [
              "array([[12, 13, 14, 15],\n",
              "       [17, 18, 19, 20],\n",
              "       [22, 23, 24, 25]])"
            ]
          },
          "metadata": {},
          "execution_count": 16
        }
      ]
    },
    {
      "cell_type": "code",
      "source": [
        "mat[3:4,4:6]"
      ],
      "metadata": {
        "colab": {
          "base_uri": "https://localhost:8080/"
        },
        "id": "3MAlPWY8gCvN",
        "outputId": "773fe75b-5404-4d86-98dc-d6677e9cd6ae"
      },
      "execution_count": 17,
      "outputs": [
        {
          "output_type": "execute_result",
          "data": {
            "text/plain": [
              "array([[20]])"
            ]
          },
          "metadata": {},
          "execution_count": 17
        }
      ]
    },
    {
      "cell_type": "code",
      "source": [
        "mat[0:3,1:2]"
      ],
      "metadata": {
        "colab": {
          "base_uri": "https://localhost:8080/"
        },
        "id": "1lnRwWuOgF2K",
        "outputId": "b6c6e057-ac5c-46ce-c6e9-7638fb3a4dc3"
      },
      "execution_count": 18,
      "outputs": [
        {
          "output_type": "execute_result",
          "data": {
            "text/plain": [
              "array([[ 2],\n",
              "       [ 7],\n",
              "       [12]])"
            ]
          },
          "metadata": {},
          "execution_count": 18
        }
      ]
    },
    {
      "cell_type": "code",
      "source": [
        "mat[4:6,0:6]\n"
      ],
      "metadata": {
        "colab": {
          "base_uri": "https://localhost:8080/"
        },
        "id": "S0I1Sp63gJ35",
        "outputId": "10a2e6ce-0d60-4f38-f4a9-c2eb4d437aeb"
      },
      "execution_count": 19,
      "outputs": [
        {
          "output_type": "execute_result",
          "data": {
            "text/plain": [
              "array([[21, 22, 23, 24, 25]])"
            ]
          },
          "metadata": {},
          "execution_count": 19
        }
      ]
    },
    {
      "cell_type": "code",
      "source": [
        "mat[3:6,0:6]"
      ],
      "metadata": {
        "colab": {
          "base_uri": "https://localhost:8080/"
        },
        "id": "_GSoesOtgMLR",
        "outputId": "57168c7c-c219-496c-fa5c-75f6712d704a"
      },
      "execution_count": 20,
      "outputs": [
        {
          "output_type": "execute_result",
          "data": {
            "text/plain": [
              "array([[16, 17, 18, 19, 20],\n",
              "       [21, 22, 23, 24, 25]])"
            ]
          },
          "metadata": {},
          "execution_count": 20
        }
      ]
    },
    {
      "cell_type": "code",
      "source": [
        "sum1=np.sum(mat)\n",
        "sum1"
      ],
      "metadata": {
        "colab": {
          "base_uri": "https://localhost:8080/"
        },
        "id": "X6q0y2tNgOki",
        "outputId": "af6a9010-0506-4557-bada-804f5af53b8c"
      },
      "execution_count": 21,
      "outputs": [
        {
          "output_type": "execute_result",
          "data": {
            "text/plain": [
              "325"
            ]
          },
          "metadata": {},
          "execution_count": 21
        }
      ]
    },
    {
      "cell_type": "code",
      "source": [
        "sd=np.std(mat)\n",
        "sd\n"
      ],
      "metadata": {
        "colab": {
          "base_uri": "https://localhost:8080/"
        },
        "id": "PlHf1PSvgSCv",
        "outputId": "8b74ea67-847d-4946-8dfc-2192114e3719"
      },
      "execution_count": 22,
      "outputs": [
        {
          "output_type": "execute_result",
          "data": {
            "text/plain": [
              "7.211102550927978"
            ]
          },
          "metadata": {},
          "execution_count": 22
        }
      ]
    },
    {
      "cell_type": "code",
      "source": [
        "col_sum=np.sum(mat,axis=0)\n",
        "col_sum"
      ],
      "metadata": {
        "colab": {
          "base_uri": "https://localhost:8080/"
        },
        "id": "nm9Fn_vwgU7m",
        "outputId": "eacdddb8-f4a9-4e8d-ccfc-a6fc19359fb6"
      },
      "execution_count": 23,
      "outputs": [
        {
          "output_type": "execute_result",
          "data": {
            "text/plain": [
              "array([55, 60, 65, 70, 75])"
            ]
          },
          "metadata": {},
          "execution_count": 23
        }
      ]
    },
    {
      "cell_type": "code",
      "source": [],
      "metadata": {
        "id": "LpkW_3WTgYcF"
      },
      "execution_count": null,
      "outputs": []
    }
  ]
}